{
 "cells": [
  {
   "cell_type": "markdown",
   "metadata": {
    "id": "7h6Gp-H2w_w0"
   },
   "source": [
    "# Homework on SVMs and Spectral Clustering\n",
    "\n",
    "\n",
    "------------------------------------------------------\n",
    "*Machine Learning II. Master in Big Data Analytics*\n",
    "\n",
    "*Emilio Parrado Hernández eparrado@ing.uc3m.es*\n",
    "\n",
    "------------------------------------------------------\n",
    "\n"
   ]
  },
  {
   "cell_type": "code",
   "execution_count": 1,
   "metadata": {},
   "outputs": [],
   "source": [
    "import numpy as np\n",
    "import matplotlib.pyplot as plt\n"
   ]
  },
  {
   "cell_type": "markdown",
   "metadata": {},
   "source": [
    "# Introduction\n",
    "\n",
    "The key to the success of a supervised learning algorithm is the number and quality of the labels. Collecting labelled examples can be costly and difficult in some applications. In this assignment you will simulate an scenario in which labels are scarce. You will study the impact of the number of available labels in the results and explore a strategy to try to achieve good results with a reduced number of labelled examples.\n",
    "\n",
    "You will work with the MNIST data that we used in the SVM lab session. We have prepared two binary problems of different nature with these data. \n",
    "\n",
    "You can use the values for the SVM parameters `C=100` and `gamma=0.001` found in that corresponding lab session."
   ]
  },
  {
   "cell_type": "markdown",
   "metadata": {},
   "source": [
    "# 1. SVM with randomly selected labels\n",
    "\n",
    "The first result is to analize the changes in performance of the SVM as the number of available labelled examples increases. The data for the first problem that you will study is in files \"x_01.csv\" and \"y_01.csv\". This problem consists in to separate 0s from 1s.\n",
    "\n",
    "\n",
    "\n",
    "The code in the following cell loads these data and plots some of the examples."
   ]
  },
  {
   "cell_type": "code",
   "execution_count": 2,
   "metadata": {},
   "outputs": [
    {
     "data": {
      "image/png": "[encoded data removed]",
      "text/plain": [
       "<Figure size 288x288 with 16 Axes>"
      ]
     },
     "metadata": {
      "needs_background": "light"
     },
     "output_type": "display_data"
    }
   ],
   "source": [
    "Y = np.loadtxt(\"y_01.csv\", \n",
    "                       delimiter=\",\") \n",
    "X = np.loadtxt(\"x_01.csv\", \n",
    "                       delimiter=\",\")\n",
    "\n",
    "nrows = 4\n",
    "ncols = 4\n",
    "ff,aa = plt.subplots(nrows, ncols,figsize=(4,4))\n",
    "ii = 0\n",
    "for rr in range(nrows):\n",
    "    for cc in range(ncols):\n",
    "        aa[rr][cc].set_axis_off()\n",
    "        aa[rr][cc].imshow(X[ii].reshape(28,28), \n",
    "                          cmap=plt.cm.gray_r, \n",
    "                          interpolation='nearest')\n",
    "        aa[rr][cc].set_title(repr(Y[ii]))\n",
    "        ii += 1\n",
    "ff.tight_layout()  "
   ]
  },
  {
   "cell_type": "markdown",
   "metadata": {},
   "source": [
    "It seems a reasonably easy classification in terms of the separability of the classes. Therefore, it should be easy to achieve good classification results with a training dataset of relative small size. \n",
    "\n",
    "You are now analizing how the results of the SVM improve as you get more and more labelled  data. In the next cell implement python code that peforms the following functionalities.\n",
    "\n",
    "- Run a `for` loop for all the values in the np.array `v_num_labels`. Let's say in iteration `nn` of the loop  `num_data = v_num_labels[nn]`\n",
    "    - construct a training set of `num_data` observations by sampling at random `num_data` rows of `X` and the corresponding elements of `Y` as true labels. In this iteration of the loop you are simulating you only have labels for these `num_data` observations, therefore you can only use these observations to fit the SVM.\n",
    "    - train a SVM with this training subset of size `num_data`\n",
    "    - evaluate this SVM with `X` and `Y` and store the result in the position `nn` of `acc_svm_random_label`. Here you are using the whole dataset, but just for evaluation and reporting purposes, not for fitting the model.\n",
    "    \n",
    "- Plot `acc_svm_random_label` vs `v_num_labels` and discuss the impact of the number of available labelled examples in the classification accuracy\n",
    "\n",
    "---\n",
    "\n",
    "**Note**\n",
    "\n",
    "It could happen that, specially for the smallest values of `v_num_lables`, all the `ll` samples belong to the same class. In that case store a $0.5$ in the corresponding position of `acc_svm_random_label` since you would think all the observations belong to a same class and therefore only half of the observations in `X` will get a correct classification."
   ]
  },
  {
   "cell_type": "code",
   "execution_count": null,
   "metadata": {},
   "outputs": [],
   "source": [
    "\n",
    "v_num_labels = np.array([2,4,8,10,20,30,40,60,80,100,200,300,400]) # number of labelled samples\n",
    "acc_svm_random_label = np.empty(len(v_num_labels))\n",
    "\n",
    "\"\"\"\n",
    "YOUR CODE:\n",
    "\n",
    "- for loop: num_data runs for all the values in v_num_labels\n",
    "    - Select num_data training examples at random\n",
    "    - Train an SVM with these num_data examples\n",
    "    - Evaluate this SVM using X and Y\n",
    "\"\"\"\n",
    "        \n",
    "plt.figure()\n",
    "\n",
    "plt.plot(v_num_labels, acc_svm_random_label, label='SVM, labels got at random')\n",
    "\n",
    "plt.legend()\n",
    "plt.xlabel('Num labels')\n",
    "plt.ylabel('accuracy')\n",
    "plt.xscale('log')\n",
    "plt.grid()\n",
    "\n"
   ]
  },
  {
   "cell_type": "markdown",
   "metadata": {},
   "source": [
    "To get a more robust statistical significance of the results, in the next cell run the above loop a number of `NSIM` times, storing the results in the 2D array `acc_svm_random_label`. Then plot the mean of `acc_svm_random_label` and one standard deviation"
   ]
  },
  {
   "cell_type": "code",
   "execution_count": null,
   "metadata": {},
   "outputs": [],
   "source": [
    "v_num_labels = np.array([2,4,8,10,20,30,40,60,80,100,200,300,400]) # number of labelled samples\n",
    "NSIM=100\n",
    "acc_svm_random_label = np.empty((NSIM, len(v_num_labels))) # notice each row is for each of the NSIM simulations\n",
    "\n",
    "\"\"\"\n",
    "YOUR CODE HERE\n",
    "\"\"\"\n",
    "\n",
    "\n",
    "plt.figure()\n",
    "\n",
    "plt.plot(v_num_labels, np.mean(acc_svm_random_label,0), label='SVM, labels got at random', color='blue')\n",
    "plt.fill_between(v_num_labels, np.percentile(acc_svm_random_label,25,axis=0),\n",
    "                 np.percentile(acc_svm_random_label,75, axis=0),\n",
    "                 color='blue',alpha=0.3)\n",
    "plt.legend()\n",
    "plt.xlabel('Num labels')\n",
    "plt.ylabel('accuracy')\n",
    "plt.xscale('log')\n",
    "plt.grid()"
   ]
  },
  {
   "cell_type": "markdown",
   "metadata": {},
   "source": [
    "**Discuss the uncertainty of the results depending of the number of available labels to train the SVM.**"
   ]
  },
  {
   "cell_type": "code",
   "execution_count": null,
   "metadata": {},
   "outputs": [],
   "source": [
    "### YOUR DISCUSSION HERE"
   ]
  },
  {
   "cell_type": "markdown",
   "metadata": {},
   "source": [
    "# 2.- Spectral Clustering with one label per cluster\n",
    "\n",
    "Clustering is an unsupervised learning paradigm. It means we can use clustering algorithms with unlabelled data. A way of doing a classification with a very constrained budget for labels could be the following. Imagine you can afford `num_data` labels:\n",
    "- Run a clustering algorithm and split your data in `num_data` clusters. We (optimistically) assume each cluster will be homogeneous (all the data in a same cluster should be assigned to a same class)\n",
    "- Now run a loop for all the clusters to classify the data of the samples\n",
    "    - Select one of the samples in each cluster and ask for its label, call `y_cluster` this label\n",
    "    - Use that label to classify all the observations that belong to this cluster.\n",
    "\n",
    "In the cell below complete the python code of function `my_spectral_clustering`. This function implements this classification scheme using [SpectralClustering](https://scikit-learn.org/stable/modules/generated/sklearn.cluster.SpectralClustering.html) as clustering method."
   ]
  },
  {
   "cell_type": "code",
   "execution_count": null,
   "metadata": {},
   "outputs": [],
   "source": [
    "from sklearn.cluster import SpectralClustering\n",
    "from sklearn.neighbors import KNeighborsClassifier\n",
    "class oracle(object):\n",
    "    \"\"\"\n",
    "    Simulates an oracle that provides with a labels for  input observations. \n",
    "    You don't have to edit this code\n",
    "    \"\"\"\n",
    "    def __init__(self, x, y):\n",
    "        self.dim = x.shape[1]\n",
    "        self.knn = KNeighborsClassifier(n_neighbors=1).fit(x,y)\n",
    "        \n",
    "    def get_label(self, x):\n",
    "        return self.knn.predict(x.reshape(-1,self.dim))\n",
    "    \n",
    "def my_spectral_clustering(x, my_oracle, n_clusters=2, gamma=1):\n",
    "    \"\"\"\n",
    "    x: array with the data, each row is an observation\n",
    "    my_oracle: oracle object. Used to get labels of specific samples.\n",
    "    n_clusters: number of clusters in which you split the data. All the elements in one cluster will get the same label\n",
    "    gamma: gamma for the RBF kernel of the spectral clustering.\n",
    "    \"\"\"\n",
    "    Nt = x.shape[0]\n",
    "    \n",
    "    \"\"\"\n",
    "    YOUR CODE\n",
    "    \n",
    "    - Fit Spectral Clustering\n",
    "    \n",
    "    \"\"\"\n",
    "    micluster = # Fit Spectral Clustering\n",
    "   \n",
    "    predictions = np.empty(Nt) # array to fill with the predicted class for all the instances in x\n",
    "    for cc in range(n_clusters):\n",
    "        # YOUR CODE\n",
    "        #\n",
    "        # - get the instances that are in cluster cc\n",
    "        # - Pick one of these instances at random and call it my_x\n",
    "        y_cluster = my_oracle.get_label(my_x)\n",
    "        # \n",
    "        # - fill the positions of the instances in cluster cc in the array predictions with y_cluster\n",
    "        \n",
    "    return predictions"
   ]
  },
  {
   "cell_type": "markdown",
   "metadata": {},
   "source": [
    "Now use the function `my_spectral_clustering` to find out the performance of this proposed classification method based in clustering with a reduced number of labels using the number of clusters indicated by `v_num_labels` and a value of `gamma=0.001` for the RBF kernel of the spectral clustering. "
   ]
  },
  {
   "cell_type": "code",
   "execution_count": null,
   "metadata": {},
   "outputs": [],
   "source": [
    "v_num_labels = np.array([2,4,8,10,20,30,40,60,80,100,200,300,400]) # number of labelled samples\n",
    "acc_spectral_clustering = np.empty(len(v_num_labels))\n",
    "gamma = 0.001\n",
    "my_oracle = oracle(X,Y)\n",
    "for ii,n_clusters in enumerate(v_num_labels):\n",
    "    predictions = my_spectral_clustering(X, my_oracle, n_clusters=n_clusters, gamma=gamma)\n",
    "    acc_spectral_clustering[ii] = np.mean(predictions == Y)\n",
    "    "
   ]
  },
  {
   "cell_type": "markdown",
   "metadata": {},
   "source": [
    "Plot the classification accuracy of the spectral clustering as a function of the number of available labels"
   ]
  },
  {
   "cell_type": "code",
   "execution_count": null,
   "metadata": {},
   "outputs": [],
   "source": [
    "# YOUR CODE TO PRODUCE THE PLOT"
   ]
  },
  {
   "cell_type": "markdown",
   "metadata": {},
   "source": [
    "Explore the dependence of the classification accuracy of the spectral clustering with the values of `gamma`. "
   ]
  },
  {
   "cell_type": "code",
   "execution_count": null,
   "metadata": {},
   "outputs": [],
   "source": [
    "v_gamma = [1e-4, 1e-3, 1e-2, 1e-1] # at least for these values\n",
    "\n",
    "acc_spectral_clustering = np.empty((len(v_gamma),len(v_num_labels))) # notice each row is for a value of gamma\n",
    "\n",
    "# Your code to fill acc_spectral_clustering\n"
   ]
  },
  {
   "cell_type": "code",
   "execution_count": null,
   "metadata": {},
   "outputs": [],
   "source": [
    "plt.figure()\n",
    "for ig, gamma in enumerate(v_gamma[:-1]):\n",
    "    plt.plot(v_num_labels, acc_spectral_clustering[ig,:], label='Spectral Clustering, gamma {0:.4f}'.format(gamma))\n",
    "plt.legend()\n",
    "plt.xlabel('Num labels')\n",
    "plt.ylabel('accuracy')\n",
    "plt.xscale('log')\n",
    "plt.grid()"
   ]
  },
  {
   "cell_type": "markdown",
   "metadata": {},
   "source": [
    "Choose one of the values of `gamma` explaining the reasons behind this selection. Plot the evolution (as the number of clusters varies) of the accuracy of the Spectral Clustering with that value of `gamma`  and compare these results with those obtained with the SVM for the same number of labels. Including the curves of  spectral clustering and SVM in the same figure can help organize the discussion."
   ]
  },
  {
   "cell_type": "code",
   "execution_count": null,
   "metadata": {},
   "outputs": [],
   "source": [
    "# YOUR CODE TO PRODUCE THE PLOT"
   ]
  },
  {
   "cell_type": "code",
   "execution_count": null,
   "metadata": {},
   "outputs": [],
   "source": [
    "# YOUR DISCUSSION"
   ]
  },
  {
   "cell_type": "markdown",
   "metadata": {},
   "source": [
    "# 3.- Binary problem even vs odd \n",
    "\n",
    "Repeat the analysis with the data included in the files \"x_all_even_odd.csv\" and \"y_all_even_odd.csv\". Discuss the separability of the classes in this problem with respect to the separability of the 0 vs. 1 case."
   ]
  },
  {
   "cell_type": "code",
   "execution_count": 7,
   "metadata": {},
   "outputs": [
    {
     "data": {
      "image/png": "[encoded data removed]",
      "text/plain": [
       "<Figure size 576x288 with 32 Axes>"
      ]
     },
     "metadata": {
      "needs_background": "light"
     },
     "output_type": "display_data"
    }
   ],
   "source": [
    "Y = np.loadtxt(\"y_all_even_odd.csv\", \n",
    "                       delimiter=\",\") \n",
    "X=np.loadtxt(\"x_all_even_odd.csv\", \n",
    "                       delimiter=\",\")\n",
    "\n",
    "nrows = 4\n",
    "ncols = 8\n",
    "ff,aa = plt.subplots(nrows, ncols,figsize=(8,4))\n",
    "ii = 0\n",
    "for rr in range(nrows):\n",
    "    for cc in range(ncols):\n",
    "        aa[rr][cc].set_axis_off()\n",
    "        aa[rr][cc].imshow(X[ii].reshape(28,28), \n",
    "                          cmap=plt.cm.gray_r, \n",
    "                          interpolation='nearest')\n",
    "        aa[rr][cc].set_title(repr(Y[ii]))\n",
    "        ii += 1\n",
    "ff.tight_layout()  "
   ]
  },
  {
   "cell_type": "code",
   "execution_count": null,
   "metadata": {},
   "outputs": [],
   "source": [
    "# YOUR CODE TO REPEAT THE ANALYSIS OF SECTIONS 1 & 2"
   ]
  },
  {
   "cell_type": "code",
   "execution_count": null,
   "metadata": {},
   "outputs": [],
   "source": [
    "# YOUR DISCUSSION"
   ]
  },
  {
   "cell_type": "markdown",
   "metadata": {},
   "source": [
    "# 4.- Final discussion\n",
    "\n",
    "Put all the results in a same plot and discuss the ranges of number of available labels for which each classification method seems more convenient. Include in the discussion the influence of the separability of the problem."
   ]
  },
  {
   "cell_type": "code",
   "execution_count": null,
   "metadata": {},
   "outputs": [],
   "source": [
    "# YOUR CODE TO PRODUCE THE PLOTS"
   ]
  },
  {
   "cell_type": "code",
   "execution_count": null,
   "metadata": {},
   "outputs": [],
   "source": [
    "# YOUR DISCUSSION"
   ]
  },
  {
   "cell_type": "markdown",
   "metadata": {},
   "source": [
    "# Extra \n",
    "\n",
    "Check what happens if you train the SVMs with the labelled samples that the spectral clustering uses to label each cluster instead of with the randomly selected labels."
   ]
  },
  {
   "cell_type": "code",
   "execution_count": null,
   "metadata": {},
   "outputs": [],
   "source": []
  }
 ],
 "metadata": {
  "colab": {
   "collapsed_sections": [],
   "name": "Homework_SVM_Clustering.ipynb",
   "provenance": []
  },
  "kernelspec": {
   "display_name": "Python 3",
   "language": "python",
   "name": "python3"
  },
  "language_info": {
   "codemirror_mode": {
    "name": "ipython",
    "version": 3
   },
   "file_extension": ".py",
   "mimetype": "text/x-python",
   "name": "python",
   "nbconvert_exporter": "python",
   "pygments_lexer": "ipython3",
   "version": "3.9.2"
  }
 },
 "nbformat": 4,
 "nbformat_minor": 1
}
