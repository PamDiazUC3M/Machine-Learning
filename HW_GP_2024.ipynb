{
 "cells": [
  {
   "cell_type": "markdown",
   "metadata": {
    "id": "WQEHAFhU0xzx"
   },
   "source": [
    "# Regression with Gaussian Processes\n",
    "\n",
    "------------------------------------------------------\n",
    "*Machine Learning, Master in Big Data Analytics, 2023-2024*\n",
    "\n",
    "*Pablo M. Olmos olmos@tsc.uc3m.es, Emilio Parrado Hernandez, eparrado@ing.uc3m.es*\n",
    "\n",
    "------------------------------------------------------\n",
    "\n",
    "The aim of this homework is to solve a real data problem using Gaussian Processes.\n",
    "\n",
    "The problem is the prediction of both the heating load (HL) and cooling load (CL) of residential buildings. We consider eight input variables for each building: relative compactness, surface area, wall area, roof area, overall height, orientation, glazing area, glazing area distribution.\n",
    "\n",
    "In this [paper](https://www.sciencedirect.com/science/article/pii/S037877881200151X) you can find a detailed description of the problem and a solution based on linear regression [(iteratively reweighted least squares (IRLS) algorithm)](https://www.google.com/url?sa=t&rct=j&q=&esrc=s&source=web&cd=10&ved=2ahUKEwjZuoLY2OjgAhUs3uAKHUZ7BVcQFjAJegQIAhAC&url=https%3A%2F%2Fpdfs.semanticscholar.org%2F9b92%2F18e7233f4d0b491e1582c893c9a099470a73.pdf&usg=AOvVaw3YDwqZh1xyF626VqfnCM2k) and random forests. Using GPs, our goal is not only estimate accurately both HL and CL, but also get a measure of uncertainty in our predictions.\n",
    "\n",
    "The data set can be downloaded from the [UCI repository](https://archive.ics.uci.edu/ml/datasets/Energy+efficiency#)."
   ]
  },
  {
   "cell_type": "code",
   "execution_count": 1,
   "metadata": {},
   "outputs": [],
   "source": [
    "import matplotlib.pyplot as plt\n",
    "import pandas as pd\n",
    "import warnings\n",
    "from sklearn.model_selection import train_test_split, RandomizedSearchCV\n",
    "from sklearn.ensemble import RandomForestRegressor\n",
    "from sklearn.pipeline import Pipeline\n",
    "from sklearn.compose import ColumnTransformer\n",
    "from sklearn.impute import SimpleImputer\n",
    "from sklearn.preprocessing import StandardScaler\n",
    "from sklearn.metrics import root_mean_squared_error\n",
    "import numpy as np\n",
    "from sklearn.gaussian_process import GaussianProcessRegressor\n",
    "from sklearn.gaussian_process.kernels import RBF, WhiteKernel, DotProduct\n",
    "from sklearn.linear_model import LinearRegression\n",
    "\n"
   ]
  },
  {
   "cell_type": "markdown",
   "metadata": {
    "id": "a9XScdSK0xz3"
   },
   "source": [
    "## 1. Loading and preparing the data\n",
    "\n",
    "* Download the dataset\n",
    "* Divide at random the dataset into train (80%) and test (20%) datasets "
   ]
  },
  {
   "cell_type": "code",
   "execution_count": 2,
   "metadata": {
    "id": "lvFIbLzT0xz3"
   },
   "outputs": [
    {
     "data": {
      "text/html": [
       "<div>\n",
       "<style scoped>\n",
       "    .dataframe tbody tr th:only-of-type {\n",
       "        vertical-align: middle;\n",
       "    }\n",
       "\n",
       "    .dataframe tbody tr th {\n",
       "        vertical-align: top;\n",
       "    }\n",
       "\n",
       "    .dataframe thead th {\n",
       "        text-align: right;\n",
       "    }\n",
       "</style>\n",
       "<table border=\"1\" class=\"dataframe\">\n",
       "  <thead>\n",
       "    <tr style=\"text-align: right;\">\n",
       "      <th></th>\n",
       "      <th>Relative Compactness</th>\n",
       "      <th>Surface Area</th>\n",
       "      <th>Wall Area</th>\n",
       "      <th>Roof Area</th>\n",
       "      <th>Overall Height</th>\n",
       "      <th>Orientation</th>\n",
       "      <th>Glazing Area</th>\n",
       "      <th>Glazing Area Distribution</th>\n",
       "      <th>Heating Load</th>\n",
       "      <th>Cooling Load</th>\n",
       "    </tr>\n",
       "  </thead>\n",
       "  <tbody>\n",
       "    <tr>\n",
       "      <th>0</th>\n",
       "      <td>0.98</td>\n",
       "      <td>514.5</td>\n",
       "      <td>294.0</td>\n",
       "      <td>110.25</td>\n",
       "      <td>7.0</td>\n",
       "      <td>2</td>\n",
       "      <td>0.0</td>\n",
       "      <td>0</td>\n",
       "      <td>15.55</td>\n",
       "      <td>21.33</td>\n",
       "    </tr>\n",
       "    <tr>\n",
       "      <th>1</th>\n",
       "      <td>0.98</td>\n",
       "      <td>514.5</td>\n",
       "      <td>294.0</td>\n",
       "      <td>110.25</td>\n",
       "      <td>7.0</td>\n",
       "      <td>3</td>\n",
       "      <td>0.0</td>\n",
       "      <td>0</td>\n",
       "      <td>15.55</td>\n",
       "      <td>21.33</td>\n",
       "    </tr>\n",
       "    <tr>\n",
       "      <th>2</th>\n",
       "      <td>0.98</td>\n",
       "      <td>514.5</td>\n",
       "      <td>294.0</td>\n",
       "      <td>110.25</td>\n",
       "      <td>7.0</td>\n",
       "      <td>4</td>\n",
       "      <td>0.0</td>\n",
       "      <td>0</td>\n",
       "      <td>15.55</td>\n",
       "      <td>21.33</td>\n",
       "    </tr>\n",
       "    <tr>\n",
       "      <th>3</th>\n",
       "      <td>0.98</td>\n",
       "      <td>514.5</td>\n",
       "      <td>294.0</td>\n",
       "      <td>110.25</td>\n",
       "      <td>7.0</td>\n",
       "      <td>5</td>\n",
       "      <td>0.0</td>\n",
       "      <td>0</td>\n",
       "      <td>15.55</td>\n",
       "      <td>21.33</td>\n",
       "    </tr>\n",
       "    <tr>\n",
       "      <th>4</th>\n",
       "      <td>0.90</td>\n",
       "      <td>563.5</td>\n",
       "      <td>318.5</td>\n",
       "      <td>122.50</td>\n",
       "      <td>7.0</td>\n",
       "      <td>2</td>\n",
       "      <td>0.0</td>\n",
       "      <td>0</td>\n",
       "      <td>20.84</td>\n",
       "      <td>28.28</td>\n",
       "    </tr>\n",
       "    <tr>\n",
       "      <th>...</th>\n",
       "      <td>...</td>\n",
       "      <td>...</td>\n",
       "      <td>...</td>\n",
       "      <td>...</td>\n",
       "      <td>...</td>\n",
       "      <td>...</td>\n",
       "      <td>...</td>\n",
       "      <td>...</td>\n",
       "      <td>...</td>\n",
       "      <td>...</td>\n",
       "    </tr>\n",
       "    <tr>\n",
       "      <th>763</th>\n",
       "      <td>0.64</td>\n",
       "      <td>784.0</td>\n",
       "      <td>343.0</td>\n",
       "      <td>220.50</td>\n",
       "      <td>3.5</td>\n",
       "      <td>5</td>\n",
       "      <td>0.4</td>\n",
       "      <td>5</td>\n",
       "      <td>17.88</td>\n",
       "      <td>21.40</td>\n",
       "    </tr>\n",
       "    <tr>\n",
       "      <th>764</th>\n",
       "      <td>0.62</td>\n",
       "      <td>808.5</td>\n",
       "      <td>367.5</td>\n",
       "      <td>220.50</td>\n",
       "      <td>3.5</td>\n",
       "      <td>2</td>\n",
       "      <td>0.4</td>\n",
       "      <td>5</td>\n",
       "      <td>16.54</td>\n",
       "      <td>16.88</td>\n",
       "    </tr>\n",
       "    <tr>\n",
       "      <th>765</th>\n",
       "      <td>0.62</td>\n",
       "      <td>808.5</td>\n",
       "      <td>367.5</td>\n",
       "      <td>220.50</td>\n",
       "      <td>3.5</td>\n",
       "      <td>3</td>\n",
       "      <td>0.4</td>\n",
       "      <td>5</td>\n",
       "      <td>16.44</td>\n",
       "      <td>17.11</td>\n",
       "    </tr>\n",
       "    <tr>\n",
       "      <th>766</th>\n",
       "      <td>0.62</td>\n",
       "      <td>808.5</td>\n",
       "      <td>367.5</td>\n",
       "      <td>220.50</td>\n",
       "      <td>3.5</td>\n",
       "      <td>4</td>\n",
       "      <td>0.4</td>\n",
       "      <td>5</td>\n",
       "      <td>16.48</td>\n",
       "      <td>16.61</td>\n",
       "    </tr>\n",
       "    <tr>\n",
       "      <th>767</th>\n",
       "      <td>0.62</td>\n",
       "      <td>808.5</td>\n",
       "      <td>367.5</td>\n",
       "      <td>220.50</td>\n",
       "      <td>3.5</td>\n",
       "      <td>5</td>\n",
       "      <td>0.4</td>\n",
       "      <td>5</td>\n",
       "      <td>16.64</td>\n",
       "      <td>16.03</td>\n",
       "    </tr>\n",
       "  </tbody>\n",
       "</table>\n",
       "<p>768 rows × 10 columns</p>\n",
       "</div>"
      ],
      "text/plain": [
       "     Relative Compactness  Surface Area  Wall Area  Roof Area  Overall Height  \\\n",
       "0                    0.98         514.5      294.0     110.25             7.0   \n",
       "1                    0.98         514.5      294.0     110.25             7.0   \n",
       "2                    0.98         514.5      294.0     110.25             7.0   \n",
       "3                    0.98         514.5      294.0     110.25             7.0   \n",
       "4                    0.90         563.5      318.5     122.50             7.0   \n",
       "..                    ...           ...        ...        ...             ...   \n",
       "763                  0.64         784.0      343.0     220.50             3.5   \n",
       "764                  0.62         808.5      367.5     220.50             3.5   \n",
       "765                  0.62         808.5      367.5     220.50             3.5   \n",
       "766                  0.62         808.5      367.5     220.50             3.5   \n",
       "767                  0.62         808.5      367.5     220.50             3.5   \n",
       "\n",
       "     Orientation  Glazing Area  Glazing Area Distribution  Heating Load  \\\n",
       "0              2           0.0                          0         15.55   \n",
       "1              3           0.0                          0         15.55   \n",
       "2              4           0.0                          0         15.55   \n",
       "3              5           0.0                          0         15.55   \n",
       "4              2           0.0                          0         20.84   \n",
       "..           ...           ...                        ...           ...   \n",
       "763            5           0.4                          5         17.88   \n",
       "764            2           0.4                          5         16.54   \n",
       "765            3           0.4                          5         16.44   \n",
       "766            4           0.4                          5         16.48   \n",
       "767            5           0.4                          5         16.64   \n",
       "\n",
       "     Cooling Load  \n",
       "0           21.33  \n",
       "1           21.33  \n",
       "2           21.33  \n",
       "3           21.33  \n",
       "4           28.28  \n",
       "..            ...  \n",
       "763         21.40  \n",
       "764         16.88  \n",
       "765         17.11  \n",
       "766         16.61  \n",
       "767         16.03  \n",
       "\n",
       "[768 rows x 10 columns]"
      ]
     },
     "execution_count": 2,
     "metadata": {},
     "output_type": "execute_result"
    }
   ],
   "source": [
    "\n",
    "# Suppress all warnings\n",
    "warnings.filterwarnings(\"ignore\")\n",
    "# Read the Excel file into a pandas DataFrame\n",
    "data = pd.read_excel('ENB2012_data.xlsx')\n",
    "\n",
    "# Define the new column names\n",
    "new_column_names = {\n",
    "    'X1': 'Relative Compactness',\n",
    "    'X2': 'Surface Area',\n",
    "    'X3': 'Wall Area',\n",
    "    'X4': 'Roof Area',\n",
    "    'X5': 'Overall Height',\n",
    "    'X6': 'Orientation',\n",
    "    'X7': 'Glazing Area',\n",
    "    'X8': 'Glazing Area Distribution',\n",
    "    'Y1': 'Heating Load',\n",
    "    'Y2': 'Cooling Load'\n",
    "}\n",
    "\n",
    "# Rename the columns\n",
    "data = data.rename(columns=new_column_names)\n",
    "\n",
    "\n",
    "# Separate features and target variables\n",
    "X = data.drop(columns=['Heating Load', 'Cooling Load'])\n",
    "y_heating = data['Heating Load']\n",
    "y_cooling = data['Cooling Load']\n",
    "\n",
    "# Split the data into train and test sets\n",
    "X_train, X_test, y_train_heating, y_test_heating = train_test_split(X, y_heating, test_size=0.2, random_state=42)\n",
    "X_train, X_test, y_train_cooling, y_test_cooling = train_test_split(X, y_cooling, test_size=0.2, random_state=42)\n",
    "\n",
    "data"
   ]
  },
  {
   "cell_type": "markdown",
   "metadata": {},
   "source": [
    "## 2. Baseline results: Random Forests (10%)\n",
    "\n",
    "Train a Random Forests selecting the number of trees in the forest and the maximum number of leaves using cross validation. \n",
    "\n",
    "**Print the scores in the test set for each target. These will be our baseline results.** \n"
   ]
  },
  {
   "cell_type": "code",
   "execution_count": 3,
   "metadata": {},
   "outputs": [
    {
     "name": "stdout",
     "output_type": "stream",
     "text": [
      "RMSE for Heating Load: 0.4921877840877365\n",
      "RMSE for Cooling Load: 1.7547981774840364\n"
     ]
    }
   ],
   "source": [
    "\n",
    "# Define preprocessing steps for numerical features\n",
    "numeric_features = X.columns\n",
    "numeric_transformer = Pipeline(steps=[\n",
    "    ('imputer', SimpleImputer(strategy='mean')),\n",
    "    ('scaler', StandardScaler())\n",
    "])\n",
    "\n",
    "# Combine preprocessing steps\n",
    "preprocessor = ColumnTransformer(\n",
    "    transformers=[\n",
    "        ('num', numeric_transformer, numeric_features)\n",
    "    ])\n",
    "\n",
    "# Define the Random Forest Regressor pipeline\n",
    "rf_pipeline_heating = Pipeline(steps=[\n",
    "    ('preprocessor', preprocessor),\n",
    "    ('regressor', RandomForestRegressor())\n",
    "])\n",
    "\n",
    "rf_pipeline_cooling = Pipeline(steps=[\n",
    "    ('preprocessor', preprocessor),\n",
    "    ('regressor', RandomForestRegressor())\n",
    "])\n",
    "\n",
    "# Define hyperparameters to tune\n",
    "param_grid = {\n",
    "    'regressor__n_estimators': [50, 100, 150],\n",
    "    'regressor__max_leaf_nodes': [None, 10, 20, 30]\n",
    "}\n",
    "\n",
    "# Perform cross-validation to find the best hyperparameters for heating load\n",
    "grid_search_heating = RandomizedSearchCV(rf_pipeline_heating, param_grid, cv=5, scoring='neg_mean_squared_error')\n",
    "grid_search_heating.fit(X_train, y_train_heating)\n",
    "\n",
    "# Perform cross-validation to find the best hyperparameters for cooling load\n",
    "grid_search_cooling = RandomizedSearchCV(rf_pipeline_cooling, param_grid, cv=5, scoring='neg_mean_squared_error')\n",
    "grid_search_cooling.fit(X_train, y_train_cooling)\n",
    "\n",
    "# Get the best estimators\n",
    "best_rf_heating = grid_search_heating.best_estimator_\n",
    "best_rf_cooling = grid_search_cooling.best_estimator_\n",
    "\n",
    "# Fit the models on the training data\n",
    "best_rf_heating.fit(X_train, y_train_heating)\n",
    "best_rf_cooling.fit(X_train, y_train_cooling)\n",
    "\n",
    "# Predict on the test set\n",
    "y_pred_heating = best_rf_heating.predict(X_test)\n",
    "y_pred_cooling = best_rf_cooling.predict(X_test)\n",
    "\n",
    "# Calculate RMSE for each target variable\n",
    "rmse_heating_RF = root_mean_squared_error(y_test_heating, y_pred_heating)\n",
    "rmse_cooling_RF = root_mean_squared_error(y_test_cooling, y_pred_cooling)\n",
    "\n",
    "print(\"RMSE for Heating Load:\", rmse_heating_RF)\n",
    "print(\"RMSE for Cooling Load:\", rmse_cooling_RF)\n"
   ]
  },
  {
   "cell_type": "markdown",
   "metadata": {},
   "source": [
    "Use attribute `feature_importances_` to discuss which are, for RF, the most informative features to predict each target."
   ]
  },
  {
   "cell_type": "code",
   "execution_count": 4,
   "metadata": {},
   "outputs": [
    {
     "name": "stdout",
     "output_type": "stream",
     "text": [
      "Feature importance for Heating Load:\n",
      "                     Feature  Importance for Heating Load  \\\n",
      "0       Relative Compactness                     0.365086   \n",
      "1               Surface Area                     0.222077   \n",
      "3                  Roof Area                     0.191753   \n",
      "4             Overall Height                     0.095282   \n",
      "6               Glazing Area                     0.078893   \n",
      "2                  Wall Area                     0.034243   \n",
      "7  Glazing Area Distribution                     0.011895   \n",
      "5                Orientation                     0.000772   \n",
      "\n",
      "   Importance for Cooling Load  \n",
      "0                     0.356492  \n",
      "1                     0.115690  \n",
      "3                     0.074967  \n",
      "4                     0.337084  \n",
      "6                     0.048980  \n",
      "2                     0.038893  \n",
      "7                     0.015934  \n",
      "5                     0.011961  \n",
      "\n",
      "Feature importance for Cooling Load:\n",
      "                     Feature  Importance for Heating Load  \\\n",
      "0       Relative Compactness                     0.365086   \n",
      "4             Overall Height                     0.095282   \n",
      "1               Surface Area                     0.222077   \n",
      "3                  Roof Area                     0.191753   \n",
      "6               Glazing Area                     0.078893   \n",
      "2                  Wall Area                     0.034243   \n",
      "7  Glazing Area Distribution                     0.011895   \n",
      "5                Orientation                     0.000772   \n",
      "\n",
      "   Importance for Cooling Load  \n",
      "0                     0.356492  \n",
      "4                     0.337084  \n",
      "1                     0.115690  \n",
      "3                     0.074967  \n",
      "6                     0.048980  \n",
      "2                     0.038893  \n",
      "7                     0.015934  \n",
      "5                     0.011961  \n"
     ]
    }
   ],
   "source": [
    "# Get feature importances for heating load prediction\n",
    "feature_importance_heating = best_rf_heating.named_steps['regressor'].feature_importances_\n",
    "\n",
    "# Get feature importances for cooling load prediction\n",
    "feature_importance_cooling = best_rf_cooling.named_steps['regressor'].feature_importances_\n",
    "\n",
    "# Combine feature importances with feature names\n",
    "feature_importance_df = pd.DataFrame({\n",
    "    'Feature': X.columns,\n",
    "    'Importance for Heating Load': feature_importance_heating,\n",
    "    'Importance for Cooling Load': feature_importance_cooling\n",
    "})\n",
    "\n",
    "# Sort features by importance for each target\n",
    "feature_importance_df = feature_importance_df.sort_values(by='Importance for Heating Load', ascending=False)\n",
    "print(\"Feature importance for Heating Load:\")\n",
    "print(feature_importance_df)\n",
    "\n",
    "feature_importance_df = feature_importance_df.sort_values(by='Importance for Cooling Load', ascending=False)\n",
    "print(\"\\nFeature importance for Cooling Load:\")\n",
    "print(feature_importance_df)\n"
   ]
  },
  {
   "cell_type": "markdown",
   "metadata": {
    "id": "6WtDRWaX0xz4"
   },
   "source": [
    "## 3. First result Gaussian Process (10%)\n",
    "\n",
    "You will train two independent GPs, one to estimate HL and one to estimate CL. Each of the two GPs will be endowed with a composite kernel function $\\kappa_T = \\kappa_c \\cdot \\kappa_r + \\kappa_w$, where:\n",
    "- $\\kappa_c$ is a constant kernel\n",
    "- $\\kappa_r$ is an RBF kernel\n",
    "- $\\kappa_w$ is a White Noise kernel\n",
    "\n",
    "Evaluate those GPs with the corresponding test sets.\n",
    "\n",
    "**How do these results compare with those obtained using Random Forests?**\n",
    "\n",
    "**Discuss the contribution of the White Noise kernel and of the constant kernel to the final results**.\n"
   ]
  },
  {
   "cell_type": "code",
   "execution_count": 5,
   "metadata": {
    "id": "DrepYjA80xz4"
   },
   "outputs": [
    {
     "name": "stdout",
     "output_type": "stream",
     "text": [
      "RMSE for Heating Load (GP, composite kernel): 0.5014581467097537\n",
      "RMSE for Cooling Load (GP, composite kernel): 1.7839732059330988\n",
      "Difference in % with respect to RF (Heating):  9.270362622017247e-05\n",
      "Difference in % with respect to RF (Cooling):  0.0002917502844906239\n"
     ]
    }
   ],
   "source": [
    "\n",
    "# Define composite kernel\n",
    "def composite_kernel():\n",
    "    rbf_kernel = RBF()\n",
    "    white_kernel = WhiteKernel()\n",
    "    return 1 * rbf_kernel + white_kernel\n",
    "\n",
    "# Define function to train GP and make predictions\n",
    "def train_and_predict_gp(X_train, y_train, X_test, kernel):\n",
    "    gp = GaussianProcessRegressor(kernel=kernel, random_state=42\n",
    "                                  #, n_restarts_optimizer=10  #añadir al final\n",
    "                                 )\n",
    "    gp.fit(X_train, y_train)\n",
    "    y_pred, sigma = gp.predict(X_test, return_std=True)\n",
    "    return y_pred, sigma\n",
    "\n",
    "# Train and predict for Heating Load (HL)\n",
    "y_pred_heating, sigma_heating = train_and_predict_gp(X_train, y_train_heating.values.reshape(-1, 1), X_test, composite_kernel())\n",
    "rmse_heating_GP = root_mean_squared_error(y_test_heating, y_pred_heating)\n",
    "\n",
    "# Train and predict for Cooling Load (CL)\n",
    "y_pred_cooling, sigma_cooling = train_and_predict_gp(X_train, y_train_cooling.values.reshape(-1, 1), X_test, composite_kernel())\n",
    "rmse_cooling_GP = root_mean_squared_error(y_test_cooling, y_pred_cooling)\n",
    "\n",
    "print(\"RMSE for Heating Load (GP, composite kernel):\", rmse_heating_GP)\n",
    "print(\"RMSE for Cooling Load (GP, composite kernel):\", rmse_cooling_GP)\n",
    "\n",
    "print(\"Difference in % with respect to RF (Heating): \", (rmse_heating_GP - rmse_heating_RF)/ 100)\n",
    "print(\"Difference in % with respect to RF (Cooling): \", (rmse_cooling_GP - rmse_cooling_RF)/ 100)\n"
   ]
  },
  {
   "cell_type": "code",
   "execution_count": 6,
   "metadata": {},
   "outputs": [
    {
     "name": "stdout",
     "output_type": "stream",
     "text": [
      "RMSE for Heating Load (GP, RBF + white): 11.039750612662663\n",
      "RMSE for Cooling Load (GP, RBF + white): 10.565696317123404\n"
     ]
    }
   ],
   "source": [
    "## not using the constant kernel\n",
    "\n",
    "# Train and predict for Heating Load (HL)\n",
    "y_pred_heating, sigma_heating = train_and_predict_gp(X_train, y_train_heating.values.reshape(-1, 1), X_test, RBF() + WhiteKernel())\n",
    "rmse_heating = root_mean_squared_error(y_test_heating, y_pred_heating)\n",
    "\n",
    "# Train and predict for Cooling Load (CL)\n",
    "y_pred_cooling, sigma_cooling = train_and_predict_gp(X_train, y_train_cooling.values.reshape(-1, 1), X_test,  RBF() + WhiteKernel())\n",
    "rmse_cooling = root_mean_squared_error(y_test_cooling, y_pred_cooling)\n",
    "\n",
    "print(\"RMSE for Heating Load (GP, RBF + white):\", rmse_heating)\n",
    "print(\"RMSE for Cooling Load (GP, RBF + white):\", rmse_cooling)\n"
   ]
  },
  {
   "cell_type": "code",
   "execution_count": 7,
   "metadata": {},
   "outputs": [
    {
     "name": "stdout",
     "output_type": "stream",
     "text": [
      "RMSE for Heating Load (GP, RBF * constant): 25.08541117084569\n",
      "RMSE for Cooling Load (GP, RBF * constant): 27.0631746609165\n"
     ]
    }
   ],
   "source": [
    "## not using the white kernel\n",
    "# Train and predict for Heating Load (HL)\n",
    "y_pred_heating, sigma_heating = train_and_predict_gp(X_train, y_train_heating.values.reshape(-1, 1), X_test, 1 * RBF())\n",
    "rmse_heating = root_mean_squared_error(y_test_heating, y_pred_heating)\n",
    "\n",
    "# Train and predict for Cooling Load (CL)\n",
    "y_pred_cooling, sigma_cooling = train_and_predict_gp(X_train, y_train_cooling.values.reshape(-1, 1), X_test, 1 * RBF())\n",
    "rmse_cooling = root_mean_squared_error(y_test_cooling, y_pred_cooling)\n",
    "\n",
    "print(\"RMSE for Heating Load (GP, RBF * constant):\", rmse_heating)\n",
    "print(\"RMSE for Cooling Load (GP, RBF * constant):\", rmse_cooling)"
   ]
  },
  {
   "cell_type": "code",
   "execution_count": 8,
   "metadata": {},
   "outputs": [
    {
     "name": "stdout",
     "output_type": "stream",
     "text": [
      "RMSE for Heating Load (GP, RBF): 1.8029858893509365\n",
      "RMSE for Cooling Load (GP, RBF): 2.77263105971425\n"
     ]
    }
   ],
   "source": [
    "## only using RBF\n",
    "y_pred_heating, sigma_heating = train_and_predict_gp(X_train, y_train_heating.values.reshape(-1, 1), X_test, RBF())\n",
    "rmse_heating = root_mean_squared_error(y_test_heating, y_pred_heating)\n",
    "\n",
    "# Train and predict for Cooling Load (CL)\n",
    "y_pred_cooling, sigma_cooling = train_and_predict_gp(X_train, y_train_cooling.values.reshape(-1, 1), X_test, RBF())\n",
    "rmse_cooling = root_mean_squared_error(y_test_cooling, y_pred_cooling)\n",
    "\n",
    "print(\"RMSE for Heating Load (GP, RBF):\", rmse_heating)\n",
    "print(\"RMSE for Cooling Load (GP, RBF):\", rmse_cooling)\n"
   ]
  },
  {
   "cell_type": "markdown",
   "metadata": {},
   "source": [
    "After experimenting with various values for the parameters of the Radial Basis Function (RBF) kernel, it was determined that the default parameters yielded the best performance metrics. Therefore, these default parameters were retained for subsequent analyses. \r\n",
    "\r\n",
    "Utilizing the composite kernel, which combines the RBF, constant, and white noise kernels, the results closely resembled those obtained from the Random Forest baseline, exhibiting less than 0.0001% difference in RMSE between the two approaches.\r\n",
    "\r\n",
    "To discern the individual contributions of the white noise and constant kernels, additional Gaussian Processes (GPs) were fitted without these kernels. The comparison underscored the importance of employing a composite kernel. Specifically, when omitting the constant kernel, the RMSE varied only slightly from the baseline results. However, the exclusion of the white noise kernel led to a significant increase in RMSE, particularly evident in the case of the cooling load, where the RMSE surged to 27, representing a deviation of more than 20 units from the basel e.\r\n",
    "\r\n",
    "In a final analysis, a GP solely utilizing the RBF kernel was tested. While the results were not as adverse as previous attempts, they still fell short of the performance achieved with the complete composite ke\n",
    "\n",
    "All of this can be explained because when using a composite kernel combining these components, the resulting GP model can capture various aspects of the data, including smooth trends (RBF), global offsets (constant), and noise (white noise). This composite kernel allows the GP to flexibly model complex patterns and uncertainties in the data, resulting in performance comparable to the Random Forest baseline.\r\n",
    "\r\n",
    "However, wheremovingve specific kernel components, such as the white noise kernel, you lose the ability to model certain aspects of the data. In the case of the white noise kernel, removing it can lead to a significant increase in prediction errors, especially when the data contains substantial noise or uncertainty. This is because without the white noise component, the GP may struggle to account for the inherent randomness or variability in the target variable, leading to poorer predictive performanc\n",
    "\n",
    "In summary, the composite kernel provides a holistic approach to modeling various aspects of the data, leading to comparable performance with the Random Forest baseline.e.vely.\n"
   ]
  },
  {
   "cell_type": "code",
   "execution_count": null,
   "metadata": {},
   "outputs": [],
   "source": []
  },
  {
   "cell_type": "markdown",
   "metadata": {},
   "source": [
    "## 4. Gaussian Process with Features selected by Random Forest (10%)\n",
    "\n",
    "Train now two independent GPs, using the same composite kernel as above, but now with those features indicated by RF as most relevant.\n",
    "\n",
    "**Is there any significant improvement over RF or GP with all the features?**\n"
   ]
  },
  {
   "cell_type": "code",
   "execution_count": 9,
   "metadata": {},
   "outputs": [
    {
     "name": "stdout",
     "output_type": "stream",
     "text": [
      "RMSE for Heating Load (GP with selected features): 0.50168979277141\n",
      "RMSE for Cooling Load (GP with selected features): 1.7485613106096765\n",
      "Difference in % with respect to RF (Heating):  9.502008683673513e-05\n",
      "Difference in % with respect to RF (Cooling):  -6.236866874359981e-05\n",
      "Difference in % with respect to GP (Heating):  2.3164606165626544e-06\n",
      "Difference in % with respect to GP (Cooling):  -0.0003541189532342237\n"
     ]
    }
   ],
   "source": [
    "# Select most relevant features based on feature importances from Random Forest\n",
    "selected_features_heating = feature_importance_df.nlargest(5, 'Importance for Heating Load')['Feature'].values\n",
    "selected_features_cooling = feature_importance_df.nlargest(5, 'Importance for Cooling Load')['Feature'].values\n",
    "\n",
    "# Filter dataset to include only the selected features\n",
    "X_train_selected_heating = X_train[selected_features_heating]\n",
    "X_test_selected_heating = X_test[selected_features_heating]\n",
    "\n",
    "X_train_selected_cooling = X_train[selected_features_cooling]\n",
    "X_test_selected_cooling = X_test[selected_features_cooling]\n",
    "\n",
    "\n",
    "# Train and predict for Heating Load (HL) with selected features\n",
    "y_pred_heating_selected, sigma_heating_selected = train_and_predict_gp(X_train_selected_heating, y_train_heating.values.reshape(-1, 1), X_test_selected_heating, composite_kernel() )\n",
    "rmse_heating_selected = root_mean_squared_error(y_test_heating, y_pred_heating_selected)\n",
    "\n",
    "# Train and predict for Cooling Load (CL) with selected features\n",
    "y_pred_cooling_selected, sigma_cooling_selected = train_and_predict_gp(X_train_selected_cooling, y_train_cooling.values.reshape(-1, 1), X_test_selected_cooling,  composite_kernel())\n",
    "rmse_cooling_selected = root_mean_squared_error(y_test_cooling, y_pred_cooling_selected)\n",
    "\n",
    "print(\"RMSE for Heating Load (GP with selected features):\", rmse_heating_selected)\n",
    "print(\"RMSE for Cooling Load (GP with selected features):\", rmse_cooling_selected)\n",
    "\n",
    "print(\"Difference in % with respect to RF (Heating): \", (rmse_heating_selected - rmse_heating_RF)/ 100)\n",
    "print(\"Difference in % with respect to RF (Cooling): \", (rmse_cooling_selected - rmse_cooling_RF)/ 100)\n",
    "\n",
    "print(\"Difference in % with respect to GP (Heating): \", (rmse_heating_selected - rmse_heating_GP)/ 100)\n",
    "print(\"Difference in % with respect to GP (Cooling): \", (rmse_cooling_selected - rmse_cooling_GP)/ 100)\n"
   ]
  },
  {
   "cell_type": "markdown",
   "metadata": {},
   "source": [
    "It is difficult to determine which are the most important features because we cannot be sure how many do we need. After trying several values, finally we decided that the best results can be obtained by selecting the top 5 features. With that, when performing the GP with the composite kernel we can observe we have quite similar results that previously with RF or GP with all features (selecting less leads to much worst results). However, the RMSE is only improved in the case of ... (terminar de comentar cuando haga el final run porque varían los números).\n",
    "\n",
    "In general, there are no significant improvements in using the most relevant features only."
   ]
  },
  {
   "cell_type": "markdown",
   "metadata": {},
   "source": [
    "## 5. Gaussian Processes with ARD kernels (30%)\n",
    "\n",
    "Now use and ARD RBF kernel in the composite, that means enable a different lenghtscale for each feature. \n",
    "\n",
    "**Discuss the impact of the ARD kernel in the results of the GPs fit for each target.**\n",
    "\n",
    "**Print the parameters of the kernels after the GPs are fit. In particular discuss how the lengthscale achieved per each feature can be used as a proxy to estimate the relevance of each feature. Are these relevances aligned with those found by Random Forests?**\n"
   ]
  },
  {
   "cell_type": "code",
   "execution_count": 10,
   "metadata": {},
   "outputs": [
    {
     "name": "stdout",
     "output_type": "stream",
     "text": [
      "RMSE for Heating Load (GP, composite kernel with normal RBF): 0.5014581467097537\n",
      "RMSE for Cooling Load (GP, composite kernel with normal RBF): 1.7839732059330988\n",
      "RMSE for Heating Load (GP, composite kernel with ARD RBF): 0.48495202345235755\n",
      "RMSE for Cooling Load (GP, composite kernel with ARD RBF): 1.7301705932507432\n",
      "Kernel before fitting: 1**2 * RBF(length_scale=[1, 1, 1, 1, 1, 1, 1, 1]) + WhiteKernel(noise_level=1)\n",
      "Parameters of the ARD RBF kernel for Heating Load: 15.9**2 * RBF(length_scale=[1, 1, 1, 1, 1, 100, 0.234, 100]) + WhiteKernel(noise_level=0.189)\n",
      "\n",
      "Parameters of the ARD RBF kernel for Cooling Load: 18.2**2 * RBF(length_scale=[1, 1, 1, 1, 1, 100, 1.09, 100]) + WhiteKernel(noise_level=2.7)\n"
     ]
    }
   ],
   "source": [
    "# Fit the GP models with ARD RBF kernel\n",
    "kernel_ard = 1.0 * RBF(length_scale=1*np.ones(8), length_scale_bounds=(1e-2, 1e2)) + WhiteKernel()\n",
    "gp_heating_ard = GaussianProcessRegressor(kernel=kernel_ard, random_state=42)\n",
    "gp_cooling_ard = GaussianProcessRegressor(kernel=kernel_ard, random_state=42)\n",
    "\n",
    "gp_heating_ard.fit(X_train, y_train_heating)\n",
    "gp_cooling_ard.fit(X_train, y_train_cooling)\n",
    "\n",
    "y_pred_heating= gp_heating_ard.predict(X_test)\n",
    "y_pred_cooling= gp_cooling_ard.predict(X_test)\n",
    "\n",
    "# Calculate RMSE\n",
    "rmse_heating_ARD = root_mean_squared_error(y_test_heating, y_pred_heating)\n",
    "rmse_cooling_ARD = root_mean_squared_error(y_test_cooling, y_pred_cooling)\n",
    "\n",
    "#Previous results with usual RBF\n",
    "print(\"RMSE for Heating Load (GP, composite kernel with normal RBF):\", rmse_heating_GP)\n",
    "print(\"RMSE for Cooling Load (GP, composite kernel with normal RBF):\", rmse_cooling_GP)\n",
    "\n",
    "#New results with ARD RBF\n",
    "print(\"RMSE for Heating Load (GP, composite kernel with ARD RBF):\", rmse_heating_ARD)\n",
    "print(\"RMSE for Cooling Load (GP, composite kernel with ARD RBF):\", rmse_cooling_ARD)\n",
    "\n",
    "\n",
    "# Print parameters of the kernels\n",
    "print(\"Kernel before fitting:\", kernel_ard)\n",
    "print(\"Parameters of the ARD RBF kernel for Heating Load:\", gp_heating_ard.kernel_)\n",
    "print(\"\\nParameters of the ARD RBF kernel for Cooling Load:\", gp_cooling_ard.kernel_)\n",
    "\n",
    "\n",
    "\n"
   ]
  },
  {
   "cell_type": "code",
   "execution_count": 11,
   "metadata": {},
   "outputs": [
    {
     "data": {
      "text/plain": [
       "Index(['Relative Compactness', 'Surface Area', 'Wall Area', 'Roof Area',\n",
       "       'Overall Height', 'Orientation', 'Glazing Area',\n",
       "       'Glazing Area Distribution'],\n",
       "      dtype='object')"
      ]
     },
     "execution_count": 11,
     "metadata": {},
     "output_type": "execute_result"
    }
   ],
   "source": [
    "# We remember the order of the columns to deduce which length scale correspond to which variable\n",
    "X_test.columns"
   ]
  },
  {
   "cell_type": "code",
   "execution_count": 12,
   "metadata": {},
   "outputs": [
    {
     "name": "stdout",
     "output_type": "stream",
     "text": [
      "['Relative Compactness' 'Surface Area' 'Roof Area' 'Overall Height'\n",
      " 'Glazing Area']\n",
      "['Relative Compactness' 'Overall Height' 'Surface Area' 'Roof Area'\n",
      " 'Glazing Area']\n"
     ]
    }
   ],
   "source": [
    "# We remember the selected features from the RF\n",
    "print(selected_features_heating)\n",
    "print(selected_features_cooling)"
   ]
  },
  {
   "cell_type": "markdown",
   "metadata": {},
   "source": [
    "Firstly, we can observe that for both Heating Load and Cooling Load, using the ARD RBF kernel leads to slight improvements in RMSE compared to the composite kernel with normal RBF. This suggests that the ARD kernel, which allows for different length scales for each feature, captures the underlying patterns in the data more effectively.\n",
    "\n",
    "Secondly, regarding the length scales, they represent the characteristic length of each feature, indicating how much influence each feature has on the predictions. A smaller length scale implies that the corresponding feature has more relevance in predicting the target variable. Therefore, for both heating load and cooling load, we observe how the first 5 have in general the smallest length scales (in order, Relative Compactness, Surface Area, Wall Area, Roof Area and Overall Heigth). However, its important to notice than for the Heating Load the Glazing Area variable has a smaller value, indicating that it strongly influences the Heating Load predictions as well.\n",
    "\n",
    "Having this in mind, if we remember the RF most frequent features, printed above, we can observe some alignment. Except for the Wall Area selected on the Gaussian Process, the rest are the same. Features with shorter length scales in the ARD kernel are generally expected to align with features identified as important by Random Forests. However, the absolute values of importance might differ due to the different nature of the models and their underlying assumptions.\n",
    "\n",
    "Overall, the use of the ARD RBF kernel allows for more flexible modeling by capturing varying importance of features, leading to improved performance in predicting both Heating Load and Cooling Load compared to the composite kernel with a normal RBF."
   ]
  },
  {
   "cell_type": "markdown",
   "metadata": {},
   "source": [
    "**Discuss the impact of scaling or not the data in the conclusions extracted from the ARD results.** "
   ]
  },
  {
   "cell_type": "code",
   "execution_count": 13,
   "metadata": {},
   "outputs": [
    {
     "name": "stdout",
     "output_type": "stream",
     "text": [
      "RMSE for Heating Load (GP, composite kernel with ARD RBF, non-scaled data): 0.48495202345235755\n",
      "RMSE for Cooling Load (GP, composite kernel with ARD RBF, non-scaled data): 1.7301705932507432\n",
      "RMSE for Heating Load (GP, composite kernel with ARD RBF, scaled data): 0.49036084050424195\n",
      "RMSE for Cooling Load (GP, composite kernel with ARD RBF, scaled data): 1.7205519185822173\n",
      "Parameters of the ARD RBF kernel for Heating Load (non-scaled data): 15.9**2 * RBF(length_scale=[1, 1, 1, 1, 1, 100, 0.234, 100]) + WhiteKernel(noise_level=0.189)\n",
      "\n",
      "Parameters of the ARD RBF kernel for Cooling Load (non-scaled data): 18.2**2 * RBF(length_scale=[1, 1, 1, 1, 1, 100, 1.09, 100]) + WhiteKernel(noise_level=2.7)\n",
      "Parameters of the ARD RBF kernel for Heating Load (scaled data): 19.1**2 * RBF(length_scale=[0.871, 1.09, 2.32, 100, 100, 100, 2.28, 100]) + WhiteKernel(noise_level=0.193)\n",
      "\n",
      "Parameters of the ARD RBF kernel for Cooling Load (scaled data): 17.8**2 * RBF(length_scale=[1.2, 0.604, 2.25, 100, 0.411, 100, 8.8, 100]) + WhiteKernel(noise_level=2.67)\n"
     ]
    }
   ],
   "source": [
    "\n",
    "# Scale the data\n",
    "scaler = StandardScaler()\n",
    "X_train_scaled = scaler.fit_transform(X_train)\n",
    "X_test_scaled = scaler.transform(X_test)\n",
    "\n",
    "# Fit the GP models with ARD RBF kernel\n",
    "kernel_ard = 1.0 * RBF(length_scale=1*np.ones(8), length_scale_bounds=(1e-2, 1e2)) + WhiteKernel()\n",
    "gp_heating_ard_scaled = GaussianProcessRegressor(kernel=kernel_ard, random_state=42)\n",
    "gp_cooling_ard_scaled = GaussianProcessRegressor(kernel=kernel_ard, random_state=42)\n",
    "\n",
    "gp_heating_ard_scaled.fit(X_train_scaled, y_train_heating)\n",
    "gp_cooling_ard_scaled.fit(X_train_scaled, y_train_cooling)\n",
    "\n",
    "# Predict using the fitted models\n",
    "y_pred_heating = gp_heating_ard_scaled.predict(X_test_scaled)\n",
    "y_pred_cooling = gp_cooling_ard_scaled.predict(X_test_scaled)\n",
    "\n",
    "# Calculate RMSE\n",
    "rmse_heating_ARD_scaled = root_mean_squared_error(y_test_heating, y_pred_heating)\n",
    "rmse_cooling_ARD_scaled = root_mean_squared_error(y_test_cooling, y_pred_cooling)\n",
    "\n",
    "#New results with ARD RBF\n",
    "print(\"RMSE for Heating Load (GP, composite kernel with ARD RBF, non-scaled data):\", rmse_heating_ARD)\n",
    "print(\"RMSE for Cooling Load (GP, composite kernel with ARD RBF, non-scaled data):\", rmse_cooling_ARD)\n",
    "\n",
    "\n",
    "print(\"RMSE for Heating Load (GP, composite kernel with ARD RBF, scaled data):\", rmse_heating_ARD_scaled)\n",
    "print(\"RMSE for Cooling Load (GP, composite kernel with ARD RBF, scaled data):\", rmse_cooling_ARD_scaled)\n",
    "\n",
    "# Print parameters of the kernels\n",
    "print(\"Parameters of the ARD RBF kernel for Heating Load (non-scaled data):\", gp_heating_ard.kernel_)\n",
    "print(\"\\nParameters of the ARD RBF kernel for Cooling Load (non-scaled data):\", gp_cooling_ard.kernel_)\n",
    "\n",
    "print(\"Parameters of the ARD RBF kernel for Heating Load (scaled data):\", gp_heating_ard_scaled.kernel_)\n",
    "print(\"\\nParameters of the ARD RBF kernel for Cooling Load (scaled data):\", gp_cooling_ard_scaled.kernel_)\n"
   ]
  },
  {
   "cell_type": "markdown",
   "metadata": {},
   "source": [
    "Comparing the RMSE values, we observe minor differences between non-scaled and scaled data for both Heating Load and Cooling Load predictions. In general, scaling the data slightly improves the RMSE for Heating Load while having negligible impact on Cooling Load predictions.\n",
    "\n",
    "However, scaling the data affects the range of length scales obtained for each feature. In non-scaled data, the length scales span a wider range, while in scaled data, the length scales are more homogeneous and closer in magnitude. This indicates that scaling the data helps standardize the influence of features on predictions.\n",
    "\n",
    "Then, scaling the data is beneficial for Gaussian Processes, especially when features have different scales or magnitudes. Scaling ensures that all features contribute equally to the model and prevents features with larger scales from dominating the predictions. \n",
    "In this case, although the differences in RMSE between non-scaled and scaled data are minor, scaling still provides more consistent and interpretable results by standardizing the feature magnitudes. Additionally, scaling helps stabilize the optimization process and improves convergence."
   ]
  },
  {
   "cell_type": "code",
   "execution_count": null,
   "metadata": {},
   "outputs": [],
   "source": []
  },
  {
   "cell_type": "markdown",
   "metadata": {},
   "source": [
    "## 6. Predictive distributions (15%)\n",
    "\n",
    "The predictive distribution can be employed to asses the confidence on the predictions made by the GPs. For the GPs fit in parts 3 (composite kernel, single RBF lengthscale for all features) and 5 (ARD kernel) compute the predictions for the test data including mean and standard deviation.\n",
    "\n",
    "**For each GP produce an scatter plot of the absolute error of the predictions (true target minus mean of the predictive distributions) vs. the standard deviation of the corresponding predictive distribution. Is the standard deviation of the predictive distribution informative about the confidence in the predictions?**"
   ]
  },
  {
   "cell_type": "code",
   "execution_count": 14,
   "metadata": {},
   "outputs": [],
   "source": [
    "# Train and predict for Heating Load (HL) single RBF\n",
    "y_pred_heating, sigma_heating = train_and_predict_gp(X_train_scaled, y_train_heating.values.reshape(-1, 1), X_test_scaled, composite_kernel())\n",
    "\n",
    "# Train and predict for Cooling Load (CL) single RBF\n",
    "y_pred_cooling, sigma_cooling = train_and_predict_gp(X_train_scaled, y_train_cooling.values.reshape(-1, 1), X_test_scaled, composite_kernel())\n",
    "\n",
    "kernel_ard = 1.0 * RBF(length_scale=1*np.ones(8), length_scale_bounds=(1e-2, 1e2)) + WhiteKernel()\n",
    "\n",
    "# Train and predict for Heating Load (HL) ARD RBF\n",
    "y_pred_heating_ARD, sigma_heating_ARD = train_and_predict_gp(X_train_scaled, y_train_heating.values.reshape(-1, 1), X_test_scaled, kernel_ard)\n",
    "\n",
    "# Train and predict for Cooling Load (CL) ARD RBF\n",
    "y_pred_cooling_ARD, sigma_cooling_ARD = train_and_predict_gp(X_train_scaled, y_train_cooling.values.reshape(-1, 1), X_test_scaled, kernel_ard)\n"
   ]
  },
  {
   "cell_type": "code",
   "execution_count": 16,
   "metadata": {},
   "outputs": [
    {
     "data": {
      "image/png": "[encoded data removed]",
      "text/plain": [
       "<Figure size 1200x600 with 2 Axes>"
      ]
     },
     "metadata": {},
     "output_type": "display_data"
    },
    {
     "data": {
      "image/png": "[encoded data removed]",
      "text/plain": [
       "<Figure size 1200x600 with 2 Axes>"
      ]
     },
     "metadata": {},
     "output_type": "display_data"
    }
   ],
   "source": [
    "\n",
    "# Function to plot scatter plot with trend line\n",
    "def scatter_with_trend(sigma, abs_error, title):\n",
    "    plt.scatter(sigma, abs_error, alpha=0.5)\n",
    "    plt.xlabel('Standard Deviation of Predictive Distribution')\n",
    "    plt.ylabel('Absolute Error')\n",
    "    plt.title(title)\n",
    "    plt.grid(True)\n",
    "    \n",
    "    # Fit linear regression\n",
    "    lr = LinearRegression()\n",
    "    lr.fit(sigma.reshape(-1, 1), abs_error)\n",
    "    trend_x = np.linspace(min(sigma), max(sigma), 100)\n",
    "    trend_y = lr.predict(trend_x.reshape(-1, 1))\n",
    "    \n",
    "    # Plot trend line\n",
    "    plt.plot(trend_x, trend_y, color='red', linestyle='--', linewidth=2, label='Trend Line')\n",
    "    plt.legend()\n",
    "\n",
    "# Calculate absolute errors\n",
    "abs_error_heating = np.abs(y_test_heating - y_pred_heating)\n",
    "abs_error_cooling = np.abs(y_test_cooling - y_pred_cooling)\n",
    "abs_error_heating_ARD = np.abs(y_test_heating - y_pred_heating_ARD)\n",
    "abs_error_cooling_ARD = np.abs(y_test_cooling - y_pred_cooling_ARD)\n",
    "\n",
    "# Create scatter plots\n",
    "plt.figure(figsize=(12, 6))\n",
    "\n",
    "# Scatter plot for Heating Load, single RBF\n",
    "plt.subplot(1, 2, 1)\n",
    "scatter_with_trend(sigma_heating, abs_error_heating, 'Heating Load, Single RBF')\n",
    "\n",
    "# Scatter plot for Cooling Load, single RBF\n",
    "plt.subplot(1, 2, 2)\n",
    "scatter_with_trend(sigma_cooling, abs_error_cooling, 'Cooling Load, Single RBF')\n",
    "\n",
    "plt.tight_layout()\n",
    "plt.show()\n",
    "\n",
    "# Create scatter plots for ARD kernels\n",
    "plt.figure(figsize=(12, 6))\n",
    "\n",
    "# Scatter plot for Heating Load, ARD RBF\n",
    "plt.subplot(1, 2, 1)\n",
    "scatter_with_trend(sigma_heating_ARD, abs_error_heating_ARD, 'Heating Load, ARD RBF')\n",
    "\n",
    "# Scatter plot for Cooling Load, ARD RBF\n",
    "plt.subplot(1, 2, 2)\n",
    "scatter_with_trend(sigma_cooling_ARD, abs_error_cooling_ARD, 'Cooling Load, ARD RBF')\n",
    "\n",
    "plt.tight_layout()\n",
    "plt.show()\n"
   ]
  },
  {
   "cell_type": "markdown",
   "metadata": {},
   "source": [
    "First, this experiment was conducted using scaled data, as demonstrated to yield better results in earlier analyses. The objective of these scatter plots was to assess whether the standard deviation of the predictive distribution could serve as an indicator of confidence in the predictions. Ideally, one would expect to observe a trend where higher standard deviations correspond to higher absolute errors, reflecting lower confidence in those predictions. However, such a clear trend is not evident in either the single RBF or ARD RBF kernels.\r\n",
    "\r\n",
    "In the case of the single RBF kernel, the scatter plot depicts a dense cluster of points, and even when attempting to discern a trend within this cloud, the opposite relationship is observed: higher standard deviations tend to correspond to lower absolute errors, contrary to our expectations.\r\n",
    "\r\n",
    "For the ARD RBF kernel, a positive trend is discernible, indicating that higher standard deviations are associated with higher absolute errors. However, the slope of this trend is notably small, suggesting that the relationship is not particularly strong.\r\n",
    "\r\n",
    "In summary, while the ARD RBF kernel exhibits a modestly positive relationship between standard deviation and absolute error, neither kernel demonstrates a clear and strong relationship between these metrics. This implies that the standard deviation of the predictive distribution may not be a reliable indicator of confidence in the predictions when using these specific kernels and dataset configurations. Further investigation and experimentation may be warranted to explore alternative approaches for assessing prediction confidence in Gaussian Process models."
   ]
  },
  {
   "cell_type": "code",
   "execution_count": null,
   "metadata": {},
   "outputs": [],
   "source": []
  },
  {
   "cell_type": "markdown",
   "metadata": {},
   "source": [
    "## 7. Advanced kernels (25%)\n",
    "\n",
    "Finally we will try to improve the results by using a more complicated kernel, which combine various covariance functions. Try to evaluate at least 10 different composite kernels by combining different instances of the basic kernels presented in class. Consider doing this programatically.\n",
    "\n",
    "**Discuss about how the diversity of the results in each target as you vary the composite kernels configuration.**"
   ]
  },
  {
   "cell_type": "code",
   "execution_count": 17,
   "metadata": {},
   "outputs": [
    {
     "name": "stdout",
     "output_type": "stream",
     "text": [
      "\n",
      "Kernel combination 1:\n",
      "RMSE for Heating Load : 11.039782521813912\n",
      "RMSE for Cooling Load : 10.565732071084634\n",
      "Kernel before fitting: RBF(length_scale=1) + WhiteKernel(noise_level=1)\n",
      "Parameters of the composite kernel for Heating Load: RBF(length_scale=1e+05) + WhiteKernel(noise_level=113)\n",
      "Parameters of the composite kernel for Cooling Load: RBF(length_scale=1e+05) + WhiteKernel(noise_level=102)\n",
      "\n",
      "Kernel combination 2:\n",
      "RMSE for Heating Load : 3.5706355030067094\n",
      "RMSE for Cooling Load : 4.20875822448175\n",
      "Kernel before fitting: RBF(length_scale=1) + WhiteKernel(noise_level=1)\n",
      "Parameters of the composite kernel for Heating Load: RBF(length_scale=4.06) + WhiteKernel(noise_level=11.3)\n",
      "Parameters of the composite kernel for Cooling Load: RBF(length_scale=4.51) + WhiteKernel(noise_level=16.2)\n",
      "\n",
      "Kernel combination 3:\n",
      "RMSE for Heating Load : 0.47207876675398175\n",
      "RMSE for Cooling Load : 1.344313647304974\n",
      "Kernel before fitting: 1**2 * RBF(length_scale=1) + WhiteKernel(noise_level=1)\n",
      "Parameters of the composite kernel for Heating Load: 316**2 * RBF(length_scale=5.22) + WhiteKernel(noise_level=0.129)\n",
      "Parameters of the composite kernel for Cooling Load: 20.2**2 * RBF(length_scale=1.87) + WhiteKernel(noise_level=0.995)\n",
      "\n",
      "Kernel combination 4:\n",
      "RMSE for Heating Load : 0.47060716613830733\n",
      "RMSE for Cooling Load : 1.2904596052729285\n",
      "Kernel before fitting: 1**2 * RBF(length_scale=1) + WhiteKernel(noise_level=1) + DotProduct(sigma_0=1)\n",
      "Parameters of the composite kernel for Heating Load: 316**2 * RBF(length_scale=5.24) + WhiteKernel(noise_level=0.129) + DotProduct(sigma_0=368)\n",
      "Parameters of the composite kernel for Cooling Load: 11.9**2 * RBF(length_scale=1.45) + WhiteKernel(noise_level=0.705) + DotProduct(sigma_0=18.2)\n",
      "\n",
      "Kernel combination 5:\n",
      "RMSE for Heating Load : 0.47060727572638433\n",
      "RMSE for Cooling Load : 1.2904587827616332\n",
      "Kernel before fitting: 1**2 * RBF(length_scale=1) + WhiteKernel(noise_level=1) + DotProduct(sigma_0=1) + 1.73**2\n",
      "Parameters of the composite kernel for Heating Load: 316**2 * RBF(length_scale=5.24) + WhiteKernel(noise_level=0.129) + DotProduct(sigma_0=367) + 12.2**2\n",
      "Parameters of the composite kernel for Cooling Load: 11.9**2 * RBF(length_scale=1.45) + WhiteKernel(noise_level=0.705) + DotProduct(sigma_0=17.4) + 5.07**2\n",
      "\n",
      "Kernel combination 6:\n",
      "RMSE for Heating Load : 0.4726699442963047\n",
      "RMSE for Cooling Load : 3.14854006591869\n",
      "Kernel before fitting: 1**2 * RBF(length_scale=1) + WhiteKernel(noise_level=1) + DotProduct(sigma_0=1) * 1**2\n",
      "Parameters of the composite kernel for Heating Load: 316**2 * RBF(length_scale=5.27) + WhiteKernel(noise_level=0.129) + DotProduct(sigma_0=14) * 24.7**2\n",
      "Parameters of the composite kernel for Cooling Load: 2.43**2 * RBF(length_scale=0.108) + WhiteKernel(noise_level=4.47) + DotProduct(sigma_0=5.64) * 4.33**2\n",
      "\n",
      "Kernel combination 7:\n",
      "RMSE for Heating Load : 0.4706071670562361\n",
      "RMSE for Cooling Load : 1.290466638638299\n",
      "Kernel before fitting: 1.41**2 * RBF(length_scale=1) + WhiteKernel(noise_level=1) + DotProduct(sigma_0=2)\n",
      "Parameters of the composite kernel for Heating Load: 316**2 * RBF(length_scale=5.24) + WhiteKernel(noise_level=0.129) + DotProduct(sigma_0=368)\n",
      "Parameters of the composite kernel for Cooling Load: 11.9**2 * RBF(length_scale=1.45) + WhiteKernel(noise_level=0.705) + DotProduct(sigma_0=18.2)\n",
      "\n",
      "Kernel combination 8:\n",
      "RMSE for Heating Load : 3.1023711812270944\n",
      "RMSE for Cooling Load : 3.2584081571655132\n",
      "Kernel before fitting: 1.41**2 * RBF(length_scale=0.1) + WhiteKernel(noise_level=1) + DotProduct(sigma_0=2)\n",
      "Parameters of the composite kernel for Heating Load: 2.27**2 * RBF(length_scale=0.1) + WhiteKernel(noise_level=3.55) + DotProduct(sigma_0=22.2)\n",
      "Parameters of the composite kernel for Cooling Load: 2.47**2 * RBF(length_scale=0.1) + WhiteKernel(noise_level=4.61) + DotProduct(sigma_0=24.4)\n",
      "\n",
      "Kernel combination 9:\n",
      "RMSE for Heating Load : 3.1023720975792193\n",
      "RMSE for Cooling Load : 3.258408381132698\n",
      "Kernel before fitting: 0.316**2 * RBF(length_scale=0.1) + WhiteKernel(noise_level=1) + DotProduct(sigma_0=3)\n",
      "Parameters of the composite kernel for Heating Load: 1.37**2 * RBF(length_scale=0.1) + WhiteKernel(noise_level=6.83) + DotProduct(sigma_0=22.2)\n",
      "Parameters of the composite kernel for Cooling Load: 1.52**2 * RBF(length_scale=0.1) + WhiteKernel(noise_level=8.38) + DotProduct(sigma_0=24.4)\n",
      "\n",
      "Kernel combination 10:\n",
      "RMSE for Heating Load : 0.4706071672544897\n",
      "RMSE for Cooling Load : 1.2904595853895127\n",
      "Kernel before fitting: 1**2 * RBF(length_scale=1) + WhiteKernel(noise_level=1) + DotProduct(sigma_0=2)\n",
      "Parameters of the composite kernel for Heating Load: 316**2 * RBF(length_scale=5.24) + WhiteKernel(noise_level=0.129) + DotProduct(sigma_0=368)\n",
      "Parameters of the composite kernel for Cooling Load: 11.9**2 * RBF(length_scale=1.45) + WhiteKernel(noise_level=0.705) + DotProduct(sigma_0=18.2)\n"
     ]
    }
   ],
   "source": [
    "\n",
    "# Define different kernel combinations\n",
    "kernels = [RBF(length_scale=1.0) + WhiteKernel(), # single RBF + white\n",
    "    RBF(length_scale=1.0, length_scale_bounds=(1e-2, 1e2)) + WhiteKernel(), # ARD RBF + white\n",
    "    1 * RBF(length_scale=1.0, length_scale_bounds=(1e-2, 1e2)) + WhiteKernel(), # 1 * ARD RBF + white\n",
    "    1 * RBF(length_scale=1.0, length_scale_bounds=(1e-2, 1e2)) + WhiteKernel() + DotProduct(), # 1 * ARD RBF + white + Dotproduct\n",
    "    1 * RBF(length_scale=1.0, length_scale_bounds=(1e-2, 1e2)) + WhiteKernel() + DotProduct() + 3,\n",
    "    1 * RBF(length_scale=1.0, length_scale_bounds=(1e-2, 1e2)) + WhiteKernel() + DotProduct() * 1,\n",
    "    2 * RBF(length_scale=1.0, length_scale_bounds=(1e-2, 1e2)) + WhiteKernel() + DotProduct(sigma_0=2),\n",
    "    2 * RBF(length_scale=0.1, length_scale_bounds=(1e-2, 1e2)) + WhiteKernel() + DotProduct(sigma_0=2),\n",
    "    0.1 * RBF(length_scale=0.1, length_scale_bounds=(1e-2, 1e2)) + WhiteKernel() + DotProduct(sigma_0=3),\n",
    "    1 * RBF(length_scale=1, length_scale_bounds=(1e-2, 1e2)) + WhiteKernel() + DotProduct(sigma_0=2)\n",
    "\n",
    "]\n",
    "\n",
    "# Loop over each kernel combination\n",
    "for i, composite_kernel in enumerate(kernels):\n",
    "    # Initialize Gaussian Process regressors\n",
    "    gp_heating = GaussianProcessRegressor(kernel=composite_kernel, random_state=42)\n",
    "    gp_cooling = GaussianProcessRegressor(kernel=composite_kernel, random_state=42)\n",
    "\n",
    "    # Fit the models\n",
    "    gp_heating.fit(X_train_scaled, y_train_heating)\n",
    "    gp_cooling.fit(X_train_scaled, y_train_cooling)\n",
    "\n",
    "    # Predict using the fitted models\n",
    "    y_pred_heating = gp_heating.predict(X_test_scaled)\n",
    "    y_pred_cooling = gp_cooling.predict(X_test_scaled)\n",
    "\n",
    "    # Calculate RMSE\n",
    "    rmse_heating = root_mean_squared_error(y_test_heating, y_pred_heating)\n",
    "    rmse_cooling = root_mean_squared_error(y_test_cooling, y_pred_cooling)\n",
    "\n",
    "    # Print results\n",
    "    print(f\"\\nKernel combination {i+1}:\")\n",
    "    print(\"RMSE for Heating Load :\", rmse_heating)\n",
    "    print(\"RMSE for Cooling Load :\", rmse_cooling)\n",
    "    print(\"Kernel before fitting:\", composite_kernel)\n",
    "    print(\"Parameters of the composite kernel for Heating Load:\", gp_heating.kernel_)\n",
    "    print(\"Parameters of the composite kernel for Cooling Load:\", gp_cooling.kernel_)\n"
   ]
  },
  {
   "cell_type": "code",
   "execution_count": null,
   "metadata": {},
   "outputs": [],
   "source": []
  },
  {
   "cell_type": "code",
   "execution_count": null,
   "metadata": {},
   "outputs": [],
   "source": []
  },
  {
   "cell_type": "code",
   "execution_count": null,
   "metadata": {},
   "outputs": [],
   "source": []
  },
  {
   "cell_type": "code",
   "execution_count": null,
   "metadata": {},
   "outputs": [],
   "source": []
  },
  {
   "cell_type": "code",
   "execution_count": null,
   "metadata": {},
   "outputs": [],
   "source": []
  }
 ],
 "metadata": {
  "colab": {
   "name": "Homework_Gaussian Process.ipynb",
   "provenance": []
  },
  "kernelspec": {
   "display_name": "Python 3 (ipykernel)",
   "language": "python",
   "name": "python3"
  },
  "language_info": {
   "codemirror_mode": {
    "name": "ipython",
    "version": 3
   },
   "file_extension": ".py",
   "mimetype": "text/x-python",
   "name": "python",
   "nbconvert_exporter": "python",
   "pygments_lexer": "ipython3",
   "version": "3.9.18"
  }
 },
 "nbformat": 4,
 "nbformat_minor": 4
}
